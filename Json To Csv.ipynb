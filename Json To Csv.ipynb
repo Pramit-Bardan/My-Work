{
 "cells": [
  {
   "cell_type": "code",
   "execution_count": null,
   "id": "b167d1a7",
   "metadata": {},
   "outputs": [],
   "source": [
    "import json\n",
    "import pandas as pd\n",
    "\n",
    "\n",
    "with open('C:/Users/User/OneDrive/Pictures/CSV Files/ARS.json') as f:\n",
    "    data = json.load(f)                                             #loads data from JSON file\n",
    "\n",
    "pi = []\n",
    "player = []\n",
    "x = []\n",
    "y = []\n",
    "endx = []\n",
    "endy = []\n",
    "team = []\n",
    "outcome = []\n",
    "minute = []\n",
    "\n",
    "for a, b in data.items():\n",
    "    if a == 'playerIdNameDictionary':\n",
    "        for i, n in b.items():\n",
    "            pi.append([i, n])\n",
    "\n",
    "for k in data['events']:\n",
    "    if k['type']['displayName'] == 'Pass':\n",
    "        for par, v in k.items():\n",
    "            if par == 'x':\n",
    "                x.append(v)\n",
    "            if par == 'y':\n",
    "                y.append(v)\n",
    "            if par == 'playerId':\n",
    "                for c, d in pi:\n",
    "                    if str(v) == c:\n",
    "                        player.append(d)\n",
    "            if par == 'endX':\n",
    "                endx.append(v)\n",
    "            if par == 'endY':\n",
    "                endy.append(v)\n",
    "            if par == 'teamId':\n",
    "                team.append(v)\n",
    "            if par == 'outcomeType':\n",
    "                outcome.append(k['outcomeType']['displayName'])\n",
    "            if par == 'minute':\n",
    "                minute.append(v)\n",
    "\n",
    "\n",
    "col_names = ['player','x','y','endx','endy','team','outcome', 'minute']\n",
    "df = pd.DataFrame([player,x,y,endx,endy,team,outcome,minute], index = col_names)\n",
    "df = df.T\n",
    "print(df)\n",
    "\n",
    "df.to_csv('C:/Users/User/OneDrive/Pictures/CSV Files/ARS.csv')"
   ]
  }
 ],
 "metadata": {
  "kernelspec": {
   "display_name": "Python 3",
   "language": "python",
   "name": "python3"
  },
  "language_info": {
   "codemirror_mode": {
    "name": "ipython",
    "version": 3
   },
   "file_extension": ".py",
   "mimetype": "text/x-python",
   "name": "python",
   "nbconvert_exporter": "python",
   "pygments_lexer": "ipython3",
   "version": "3.8.8"
  }
 },
 "nbformat": 4,
 "nbformat_minor": 5
}
